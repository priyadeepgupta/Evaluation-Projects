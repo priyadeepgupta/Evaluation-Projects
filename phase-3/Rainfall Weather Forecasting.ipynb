{
 "cells": [
  {
   "cell_type": "markdown",
   "id": "cd0c9b2a",
   "metadata": {},
   "source": [
    "#                               Rainfall Weather Forecasting"
   ]
  },
  {
   "cell_type": "code",
   "execution_count": 1,
   "id": "0db8a858",
   "metadata": {},
   "outputs": [
    {
     "name": "stdout",
     "output_type": "stream",
     "text": [
      "Requirement already satisfied: pandas in c:\\users\\sanja\\anaconda3\\lib\\site-packages (1.5.3)Note: you may need to restart the kernel to use updated packages.\n",
      "\n",
      "Requirement already satisfied: scikit-learn in c:\\users\\sanja\\anaconda3\\lib\\site-packages (1.2.1)\n",
      "Requirement already satisfied: pytz>=2020.1 in c:\\users\\sanja\\anaconda3\\lib\\site-packages (from pandas) (2022.7)\n",
      "Requirement already satisfied: numpy>=1.21.0 in c:\\users\\sanja\\anaconda3\\lib\\site-packages (from pandas) (1.23.5)\n",
      "Requirement already satisfied: python-dateutil>=2.8.1 in c:\\users\\sanja\\anaconda3\\lib\\site-packages (from pandas) (2.8.2)\n",
      "Requirement already satisfied: scipy>=1.3.2 in c:\\users\\sanja\\anaconda3\\lib\\site-packages (from scikit-learn) (1.10.0)\n",
      "Requirement already satisfied: threadpoolctl>=2.0.0 in c:\\users\\sanja\\anaconda3\\lib\\site-packages (from scikit-learn) (2.2.0)\n",
      "Requirement already satisfied: joblib>=1.1.1 in c:\\users\\sanja\\anaconda3\\lib\\site-packages (from scikit-learn) (1.1.1)\n",
      "Requirement already satisfied: six>=1.5 in c:\\users\\sanja\\anaconda3\\lib\\site-packages (from python-dateutil>=2.8.1->pandas) (1.16.0)\n"
     ]
    }
   ],
   "source": [
    "pip install pandas scikit-learn"
   ]
  },
  {
   "cell_type": "code",
   "execution_count": 3,
   "id": "86bd1e68",
   "metadata": {},
   "outputs": [
    {
     "name": "stdout",
     "output_type": "stream",
     "text": [
      "            Date Location  MinTemp  MaxTemp  Rainfall  Evaporation  Sunshine  \\\n",
      "0     2008-12-01   Albury     13.4     22.9       0.6          NaN       NaN   \n",
      "1     2008-12-02   Albury      7.4     25.1       0.0          NaN       NaN   \n",
      "2     2008-12-03   Albury     12.9     25.7       0.0          NaN       NaN   \n",
      "3     2008-12-04   Albury      9.2     28.0       0.0          NaN       NaN   \n",
      "4     2008-12-05   Albury     17.5     32.3       1.0          NaN       NaN   \n",
      "...          ...      ...      ...      ...       ...          ...       ...   \n",
      "8420  2017-06-21    Uluru      2.8     23.4       0.0          NaN       NaN   \n",
      "8421  2017-06-22    Uluru      3.6     25.3       0.0          NaN       NaN   \n",
      "8422  2017-06-23    Uluru      5.4     26.9       0.0          NaN       NaN   \n",
      "8423  2017-06-24    Uluru      7.8     27.0       0.0          NaN       NaN   \n",
      "8424  2017-06-25    Uluru     14.9      NaN       0.0          NaN       NaN   \n",
      "\n",
      "     WindGustDir  WindGustSpeed WindDir9am  ... Humidity9am  Humidity3pm  \\\n",
      "0              W           44.0          W  ...        71.0         22.0   \n",
      "1            WNW           44.0        NNW  ...        44.0         25.0   \n",
      "2            WSW           46.0          W  ...        38.0         30.0   \n",
      "3             NE           24.0         SE  ...        45.0         16.0   \n",
      "4              W           41.0        ENE  ...        82.0         33.0   \n",
      "...          ...            ...        ...  ...         ...          ...   \n",
      "8420           E           31.0         SE  ...        51.0         24.0   \n",
      "8421         NNW           22.0         SE  ...        56.0         21.0   \n",
      "8422           N           37.0         SE  ...        53.0         24.0   \n",
      "8423          SE           28.0        SSE  ...        51.0         24.0   \n",
      "8424         NaN            NaN        ESE  ...        62.0         36.0   \n",
      "\n",
      "      Pressure9am  Pressure3pm  Cloud9am  Cloud3pm  Temp9am  Temp3pm  \\\n",
      "0          1007.7       1007.1       8.0       NaN     16.9     21.8   \n",
      "1          1010.6       1007.8       NaN       NaN     17.2     24.3   \n",
      "2          1007.6       1008.7       NaN       2.0     21.0     23.2   \n",
      "3          1017.6       1012.8       NaN       NaN     18.1     26.5   \n",
      "4          1010.8       1006.0       7.0       8.0     17.8     29.7   \n",
      "...           ...          ...       ...       ...      ...      ...   \n",
      "8420       1024.6       1020.3       NaN       NaN     10.1     22.4   \n",
      "8421       1023.5       1019.1       NaN       NaN     10.9     24.5   \n",
      "8422       1021.0       1016.8       NaN       NaN     12.5     26.1   \n",
      "8423       1019.4       1016.5       3.0       2.0     15.1     26.0   \n",
      "8424       1020.2       1017.9       8.0       8.0     15.0     20.9   \n",
      "\n",
      "      RainToday  RainTomorrow  \n",
      "0            No            No  \n",
      "1            No            No  \n",
      "2            No            No  \n",
      "3            No            No  \n",
      "4            No            No  \n",
      "...         ...           ...  \n",
      "8420         No            No  \n",
      "8421         No            No  \n",
      "8422         No            No  \n",
      "8423         No            No  \n",
      "8424         No           NaN  \n",
      "\n",
      "[8425 rows x 23 columns]\n"
     ]
    }
   ],
   "source": [
    "import pandas as pd\n",
    "\n",
    "df = pd.read_csv(\"https://raw.githubusercontent.com/dsrscientist/dataset3/main/weatherAUS.csv\")\n",
    "print(df)"
   ]
  },
  {
   "cell_type": "code",
   "execution_count": 4,
   "id": "6b087167",
   "metadata": {},
   "outputs": [
    {
     "name": "stdout",
     "output_type": "stream",
     "text": [
      "         Date Location  MinTemp  MaxTemp  Rainfall  Evaporation  Sunshine  \\\n",
      "0  2008-12-01   Albury     13.4     22.9       0.6          NaN       NaN   \n",
      "1  2008-12-02   Albury      7.4     25.1       0.0          NaN       NaN   \n",
      "2  2008-12-03   Albury     12.9     25.7       0.0          NaN       NaN   \n",
      "3  2008-12-04   Albury      9.2     28.0       0.0          NaN       NaN   \n",
      "4  2008-12-05   Albury     17.5     32.3       1.0          NaN       NaN   \n",
      "\n",
      "  WindGustDir  WindGustSpeed WindDir9am  ... Humidity9am  Humidity3pm  \\\n",
      "0           W           44.0          W  ...        71.0         22.0   \n",
      "1         WNW           44.0        NNW  ...        44.0         25.0   \n",
      "2         WSW           46.0          W  ...        38.0         30.0   \n",
      "3          NE           24.0         SE  ...        45.0         16.0   \n",
      "4           W           41.0        ENE  ...        82.0         33.0   \n",
      "\n",
      "   Pressure9am  Pressure3pm  Cloud9am  Cloud3pm  Temp9am  Temp3pm  RainToday  \\\n",
      "0       1007.7       1007.1       8.0       NaN     16.9     21.8         No   \n",
      "1       1010.6       1007.8       NaN       NaN     17.2     24.3         No   \n",
      "2       1007.6       1008.7       NaN       2.0     21.0     23.2         No   \n",
      "3       1017.6       1012.8       NaN       NaN     18.1     26.5         No   \n",
      "4       1010.8       1006.0       7.0       8.0     17.8     29.7         No   \n",
      "\n",
      "   RainTomorrow  \n",
      "0            No  \n",
      "1            No  \n",
      "2            No  \n",
      "3            No  \n",
      "4            No  \n",
      "\n",
      "[5 rows x 23 columns]\n"
     ]
    }
   ],
   "source": [
    "print(df.head())"
   ]
  },
  {
   "cell_type": "code",
   "execution_count": 5,
   "id": "d13a82b2",
   "metadata": {},
   "outputs": [
    {
     "name": "stdout",
     "output_type": "stream",
     "text": [
      "<class 'pandas.core.frame.DataFrame'>\n",
      "RangeIndex: 8425 entries, 0 to 8424\n",
      "Data columns (total 23 columns):\n",
      " #   Column         Non-Null Count  Dtype  \n",
      "---  ------         --------------  -----  \n",
      " 0   Date           8425 non-null   object \n",
      " 1   Location       8425 non-null   object \n",
      " 2   MinTemp        8350 non-null   float64\n",
      " 3   MaxTemp        8365 non-null   float64\n",
      " 4   Rainfall       8185 non-null   float64\n",
      " 5   Evaporation    4913 non-null   float64\n",
      " 6   Sunshine       4431 non-null   float64\n",
      " 7   WindGustDir    7434 non-null   object \n",
      " 8   WindGustSpeed  7434 non-null   float64\n",
      " 9   WindDir9am     7596 non-null   object \n",
      " 10  WindDir3pm     8117 non-null   object \n",
      " 11  WindSpeed9am   8349 non-null   float64\n",
      " 12  WindSpeed3pm   8318 non-null   float64\n",
      " 13  Humidity9am    8366 non-null   float64\n",
      " 14  Humidity3pm    8323 non-null   float64\n",
      " 15  Pressure9am    7116 non-null   float64\n",
      " 16  Pressure3pm    7113 non-null   float64\n",
      " 17  Cloud9am       6004 non-null   float64\n",
      " 18  Cloud3pm       5970 non-null   float64\n",
      " 19  Temp9am        8369 non-null   float64\n",
      " 20  Temp3pm        8329 non-null   float64\n",
      " 21  RainToday      8185 non-null   object \n",
      " 22  RainTomorrow   8186 non-null   object \n",
      "dtypes: float64(16), object(7)\n",
      "memory usage: 1.5+ MB\n",
      "None\n"
     ]
    }
   ],
   "source": [
    "print(df.info())"
   ]
  },
  {
   "cell_type": "code",
   "execution_count": 6,
   "id": "3163bf3f",
   "metadata": {},
   "outputs": [
    {
     "name": "stdout",
     "output_type": "stream",
     "text": [
      "           MinTemp      MaxTemp     Rainfall  Evaporation     Sunshine  \\\n",
      "count  8350.000000  8365.000000  8185.000000  4913.000000  4431.000000   \n",
      "mean     13.193305    23.859976     2.805913     5.389395     7.632205   \n",
      "std       5.403596     6.136408    10.459379     5.044484     3.896235   \n",
      "min      -2.000000     8.200000     0.000000     0.000000     0.000000   \n",
      "25%       9.200000    19.300000     0.000000     2.600000     4.750000   \n",
      "50%      13.300000    23.300000     0.000000     4.600000     8.700000   \n",
      "75%      17.400000    28.000000     1.000000     7.000000    10.700000   \n",
      "max      28.500000    45.500000   371.000000   145.000000    13.900000   \n",
      "\n",
      "       WindGustSpeed  WindSpeed9am  WindSpeed3pm  Humidity9am  Humidity3pm  \\\n",
      "count    7434.000000   8349.000000   8318.000000  8366.000000  8323.000000   \n",
      "mean       40.174469     13.847646     18.533662    67.822496    51.249790   \n",
      "std        14.665721     10.174579      9.766986    16.833283    18.423774   \n",
      "min         7.000000      0.000000      0.000000    10.000000     6.000000   \n",
      "25%        30.000000      6.000000     11.000000    56.000000    39.000000   \n",
      "50%        39.000000     13.000000     19.000000    68.000000    51.000000   \n",
      "75%        50.000000     20.000000     24.000000    80.000000    63.000000   \n",
      "max       107.000000     63.000000     83.000000   100.000000    99.000000   \n",
      "\n",
      "       Pressure9am  Pressure3pm     Cloud9am     Cloud3pm      Temp9am  \\\n",
      "count  7116.000000  7113.000000  6004.000000  5970.000000  8369.000000   \n",
      "mean   1017.640233  1015.236075     4.566622     4.503183    17.762015   \n",
      "std       6.828699     6.766681     2.877658     2.731659     5.627035   \n",
      "min     989.800000   982.900000     0.000000     0.000000     1.900000   \n",
      "25%    1013.000000  1010.400000     1.000000     2.000000    13.800000   \n",
      "50%    1017.700000  1015.300000     5.000000     5.000000    17.800000   \n",
      "75%    1022.300000  1019.800000     7.000000     7.000000    21.900000   \n",
      "max    1039.000000  1036.000000     8.000000     8.000000    39.400000   \n",
      "\n",
      "           Temp3pm  \n",
      "count  8329.000000  \n",
      "mean     22.442934  \n",
      "std       5.980020  \n",
      "min       7.300000  \n",
      "25%      18.000000  \n",
      "50%      21.900000  \n",
      "75%      26.400000  \n",
      "max      44.100000  \n"
     ]
    }
   ],
   "source": [
    "print(df.describe())"
   ]
  },
  {
   "cell_type": "code",
   "execution_count": 7,
   "id": "cf701a4a",
   "metadata": {},
   "outputs": [
    {
     "name": "stdout",
     "output_type": "stream",
     "text": [
      "Date                0\n",
      "Location            0\n",
      "MinTemp            75\n",
      "MaxTemp            60\n",
      "Rainfall          240\n",
      "Evaporation      3512\n",
      "Sunshine         3994\n",
      "WindGustDir       991\n",
      "WindGustSpeed     991\n",
      "WindDir9am        829\n",
      "WindDir3pm        308\n",
      "WindSpeed9am       76\n",
      "WindSpeed3pm      107\n",
      "Humidity9am        59\n",
      "Humidity3pm       102\n",
      "Pressure9am      1309\n",
      "Pressure3pm      1312\n",
      "Cloud9am         2421\n",
      "Cloud3pm         2455\n",
      "Temp9am            56\n",
      "Temp3pm            96\n",
      "RainToday         240\n",
      "RainTomorrow      239\n",
      "dtype: int64\n"
     ]
    }
   ],
   "source": [
    "print(df.isnull().sum())"
   ]
  },
  {
   "cell_type": "code",
   "execution_count": 13,
   "id": "7634e22d",
   "metadata": {},
   "outputs": [
    {
     "name": "stdout",
     "output_type": "stream",
     "text": [
      "Column Names: Index(['Date', 'Location', 'MinTemp', 'MaxTemp', 'Rainfall', 'Evaporation',\n",
      "       'Sunshine', 'WindGustDir', 'WindGustSpeed', 'WindDir9am', 'WindDir3pm',\n",
      "       'WindSpeed9am', 'WindSpeed3pm', 'Humidity9am', 'Humidity3pm',\n",
      "       'Pressure9am', 'Pressure3pm', 'Cloud9am', 'Cloud3pm', 'Temp9am',\n",
      "       'Temp3pm', 'RainToday', 'RainTomorrow'],\n",
      "      dtype='object')\n",
      "Data Types: Date              object\n",
      "Location          object\n",
      "MinTemp          float64\n",
      "MaxTemp          float64\n",
      "Rainfall         float64\n",
      "Evaporation      float64\n",
      "Sunshine         float64\n",
      "WindGustDir       object\n",
      "WindGustSpeed    float64\n",
      "WindDir9am        object\n",
      "WindDir3pm        object\n",
      "WindSpeed9am     float64\n",
      "WindSpeed3pm     float64\n",
      "Humidity9am      float64\n",
      "Humidity3pm      float64\n",
      "Pressure9am      float64\n",
      "Pressure3pm      float64\n",
      "Cloud9am         float64\n",
      "Cloud3pm         float64\n",
      "Temp9am          float64\n",
      "Temp3pm          float64\n",
      "RainToday         object\n",
      "RainTomorrow      object\n",
      "dtype: object\n"
     ]
    }
   ],
   "source": [
    "import pandas as pd\n",
    "from sklearn.impute import SimpleImputer\n",
    "from sklearn.preprocessing import LabelEncoder\n",
    "from sklearn.model_selection import train_test_split\n",
    "from sklearn.ensemble import RandomForestClassifier\n",
    "\n",
    "\n",
    "print(\"Column Names:\", data.columns)\n",
    "print(\"Data Types:\", data.dtypes)\n",
    "\n",
    "data_classification = data.copy()\n",
    "data_classification.dropna(subset=['RainTomorrow'], inplace=True)\n",
    "data_classification.reset_index(drop=True, inplace=True)\n",
    "\n",
    "numeric_columns = data_classification.select_dtypes(include=['float64']).columns\n",
    "data_classification = data_classification.drop(['Date', 'Location'], axis=1)\n",
    "imputer_class = SimpleImputer(strategy='mean')\n",
    "data_classification[numeric_columns] = imputer_class.fit_transform(data_classification[numeric_columns])\n",
    "\n",
    "data_classification['RainTomorrow'] = le.fit_transform(data_classification['RainTomorrow'])\n",
    "data_classification['RainToday'] = le.fit_transform(data_classification['RainToday'])\n",
    "data_classification['WindGustDir'] = le.fit_transform(data_classification['WindGustDir'])\n",
    "data_classification['WindDir9am'] = le.fit_transform(data_classification['WindDir9am'])\n",
    "data_classification['WindDir3pm'] = le.fit_transform(data_classification['WindDir3pm'])\n",
    "\n",
    "\n",
    "X_class = data_classification.drop(['RainTomorrow'], axis=1)\n",
    "y_class = data_classification['RainTomorrow']\n",
    "X_train_class, X_test_class, y_train_class, y_test_class = train_test_split(X_class, y_class, test_size=0.2, random_state=42)\n",
    "\n",
    "\n",
    "rf_classifier = RandomForestClassifier(random_state=42)\n",
    "rf_classifier.fit(X_train_class, y_train_class)\n",
    "\n",
    "\n",
    "y_pred_class = rf_classifier.predict(X_test_class)\n"
   ]
  },
  {
   "cell_type": "code",
   "execution_count": null,
   "id": "ea51ed39",
   "metadata": {},
   "outputs": [],
   "source": []
  }
 ],
 "metadata": {
  "kernelspec": {
   "display_name": "Python 3 (ipykernel)",
   "language": "python",
   "name": "python3"
  },
  "language_info": {
   "codemirror_mode": {
    "name": "ipython",
    "version": 3
   },
   "file_extension": ".py",
   "mimetype": "text/x-python",
   "name": "python",
   "nbconvert_exporter": "python",
   "pygments_lexer": "ipython3",
   "version": "3.10.9"
  }
 },
 "nbformat": 4,
 "nbformat_minor": 5
}
