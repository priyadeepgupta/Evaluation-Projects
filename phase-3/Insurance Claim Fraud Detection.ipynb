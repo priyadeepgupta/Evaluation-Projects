{
 "cells": [
  {
   "cell_type": "markdown",
   "id": "6f5e76cd",
   "metadata": {},
   "source": [
    "#                                Insurance Claim Fraud Detection"
   ]
  },
  {
   "cell_type": "code",
   "execution_count": 2,
   "id": "85019d3c",
   "metadata": {},
   "outputs": [
    {
     "name": "stdout",
     "output_type": "stream",
     "text": [
      "Requirement already satisfied: pandas in c:\\users\\sanja\\anaconda3\\lib\\site-packages (1.5.3)\n",
      "Requirement already satisfied: scikit-learn in c:\\users\\sanja\\anaconda3\\lib\\site-packages (1.2.1)\n",
      "Requirement already satisfied: numpy>=1.21.0 in c:\\users\\sanja\\anaconda3\\lib\\site-packages (from pandas) (1.23.5)\n",
      "Requirement already satisfied: python-dateutil>=2.8.1 in c:\\users\\sanja\\anaconda3\\lib\\site-packages (from pandas) (2.8.2)\n",
      "Requirement already satisfied: pytz>=2020.1 in c:\\users\\sanja\\anaconda3\\lib\\site-packages (from pandas) (2022.7)\n",
      "Requirement already satisfied: threadpoolctl>=2.0.0 in c:\\users\\sanja\\anaconda3\\lib\\site-packages (from scikit-learn) (2.2.0)\n",
      "Requirement already satisfied: joblib>=1.1.1 in c:\\users\\sanja\\anaconda3\\lib\\site-packages (from scikit-learn) (1.1.1)\n",
      "Requirement already satisfied: scipy>=1.3.2 in c:\\users\\sanja\\anaconda3\\lib\\site-packages (from scikit-learn) (1.10.0)\n",
      "Requirement already satisfied: six>=1.5 in c:\\users\\sanja\\anaconda3\\lib\\site-packages (from python-dateutil>=2.8.1->pandas) (1.16.0)\n",
      "Note: you may need to restart the kernel to use updated packages.\n"
     ]
    }
   ],
   "source": [
    "pip install pandas scikit-learn"
   ]
  },
  {
   "cell_type": "code",
   "execution_count": 7,
   "id": "74dc59ba",
   "metadata": {},
   "outputs": [],
   "source": [
    "import pandas as pd\n",
    "from sklearn.model_selection import train_test_split\n",
    "from sklearn.ensemble import RandomForestClassifier\n",
    "from sklearn.metrics import accuracy_score, classification_report\n"
   ]
  },
  {
   "cell_type": "code",
   "execution_count": 8,
   "id": "9bd9eabf",
   "metadata": {},
   "outputs": [
    {
     "name": "stdout",
     "output_type": "stream",
     "text": [
      "     months_as_customer  age  policy_number policy_bind_date policy_state  \\\n",
      "0                   328   48         521585       17-10-2014           OH   \n",
      "1                   228   42         342868       27-06-2006           IN   \n",
      "2                   134   29         687698       06-09-2000           OH   \n",
      "3                   256   41         227811       25-05-1990           IL   \n",
      "4                   228   44         367455       06-06-2014           IL   \n",
      "..                  ...  ...            ...              ...          ...   \n",
      "995                   3   38         941851       16-07-1991           OH   \n",
      "996                 285   41         186934       05-01-2014           IL   \n",
      "997                 130   34         918516       17-02-2003           OH   \n",
      "998                 458   62         533940       18-11-2011           IL   \n",
      "999                 456   60         556080       11-11-1996           OH   \n",
      "\n",
      "    policy_csl  policy_deductable  policy_annual_premium  umbrella_limit  \\\n",
      "0      250/500               1000                1406.91               0   \n",
      "1      250/500               2000                1197.22         5000000   \n",
      "2      100/300               2000                1413.14         5000000   \n",
      "3      250/500               2000                1415.74         6000000   \n",
      "4     500/1000               1000                1583.91         6000000   \n",
      "..         ...                ...                    ...             ...   \n",
      "995   500/1000               1000                1310.80               0   \n",
      "996    100/300               1000                1436.79               0   \n",
      "997    250/500                500                1383.49         3000000   \n",
      "998   500/1000               2000                1356.92         5000000   \n",
      "999    250/500               1000                 766.19               0   \n",
      "\n",
      "     insured_zip  ... police_report_available total_claim_amount injury_claim  \\\n",
      "0         466132  ...                     YES              71610         6510   \n",
      "1         468176  ...                       ?               5070          780   \n",
      "2         430632  ...                      NO              34650         7700   \n",
      "3         608117  ...                      NO              63400         6340   \n",
      "4         610706  ...                      NO               6500         1300   \n",
      "..           ...  ...                     ...                ...          ...   \n",
      "995       431289  ...                       ?              87200        17440   \n",
      "996       608177  ...                       ?             108480        18080   \n",
      "997       442797  ...                     YES              67500         7500   \n",
      "998       441714  ...                     YES              46980         5220   \n",
      "999       612260  ...                       ?               5060          460   \n",
      "\n",
      "    property_claim vehicle_claim   auto_make  auto_model auto_year  \\\n",
      "0            13020         52080        Saab         92x      2004   \n",
      "1              780          3510    Mercedes        E400      2007   \n",
      "2             3850         23100       Dodge         RAM      2007   \n",
      "3             6340         50720   Chevrolet       Tahoe      2014   \n",
      "4              650          4550      Accura         RSX      2009   \n",
      "..             ...           ...         ...         ...       ...   \n",
      "995           8720         61040       Honda      Accord      2006   \n",
      "996          18080         72320  Volkswagen      Passat      2015   \n",
      "997           7500         52500      Suburu     Impreza      1996   \n",
      "998           5220         36540        Audi          A5      1998   \n",
      "999            920          3680    Mercedes        E400      2007   \n",
      "\n",
      "    fraud_reported _c39  \n",
      "0                Y  NaN  \n",
      "1                Y  NaN  \n",
      "2                N  NaN  \n",
      "3                Y  NaN  \n",
      "4                N  NaN  \n",
      "..             ...  ...  \n",
      "995              N  NaN  \n",
      "996              N  NaN  \n",
      "997              N  NaN  \n",
      "998              N  NaN  \n",
      "999              N  NaN  \n",
      "\n",
      "[1000 rows x 40 columns]\n"
     ]
    }
   ],
   "source": [
    "df = pd.read_csv(\"https://raw.githubusercontent.com/dsrscientist/Data-Science-ML-Capstone-Projects/master/Automobile_insurance_fraud.csv\")\n",
    "print(df)"
   ]
  },
  {
   "cell_type": "code",
   "execution_count": 9,
   "id": "f49d51cc",
   "metadata": {},
   "outputs": [
    {
     "name": "stdout",
     "output_type": "stream",
     "text": [
      "   months_as_customer  age  policy_number policy_bind_date policy_state  \\\n",
      "0                 328   48         521585       17-10-2014           OH   \n",
      "1                 228   42         342868       27-06-2006           IN   \n",
      "2                 134   29         687698       06-09-2000           OH   \n",
      "3                 256   41         227811       25-05-1990           IL   \n",
      "4                 228   44         367455       06-06-2014           IL   \n",
      "\n",
      "  policy_csl  policy_deductable  policy_annual_premium  umbrella_limit  \\\n",
      "0    250/500               1000                1406.91               0   \n",
      "1    250/500               2000                1197.22         5000000   \n",
      "2    100/300               2000                1413.14         5000000   \n",
      "3    250/500               2000                1415.74         6000000   \n",
      "4   500/1000               1000                1583.91         6000000   \n",
      "\n",
      "   insured_zip  ... police_report_available total_claim_amount injury_claim  \\\n",
      "0       466132  ...                     YES              71610         6510   \n",
      "1       468176  ...                       ?               5070          780   \n",
      "2       430632  ...                      NO              34650         7700   \n",
      "3       608117  ...                      NO              63400         6340   \n",
      "4       610706  ...                      NO               6500         1300   \n",
      "\n",
      "  property_claim vehicle_claim  auto_make  auto_model auto_year  \\\n",
      "0          13020         52080       Saab         92x      2004   \n",
      "1            780          3510   Mercedes        E400      2007   \n",
      "2           3850         23100      Dodge         RAM      2007   \n",
      "3           6340         50720  Chevrolet       Tahoe      2014   \n",
      "4            650          4550     Accura         RSX      2009   \n",
      "\n",
      "  fraud_reported _c39  \n",
      "0              Y  NaN  \n",
      "1              Y  NaN  \n",
      "2              N  NaN  \n",
      "3              Y  NaN  \n",
      "4              N  NaN  \n",
      "\n",
      "[5 rows x 40 columns]\n"
     ]
    }
   ],
   "source": [
    "print(df.head())"
   ]
  },
  {
   "cell_type": "code",
   "execution_count": 10,
   "id": "79cbc4fc",
   "metadata": {},
   "outputs": [
    {
     "name": "stdout",
     "output_type": "stream",
     "text": [
      "<class 'pandas.core.frame.DataFrame'>\n",
      "RangeIndex: 1000 entries, 0 to 999\n",
      "Data columns (total 40 columns):\n",
      " #   Column                       Non-Null Count  Dtype  \n",
      "---  ------                       --------------  -----  \n",
      " 0   months_as_customer           1000 non-null   int64  \n",
      " 1   age                          1000 non-null   int64  \n",
      " 2   policy_number                1000 non-null   int64  \n",
      " 3   policy_bind_date             1000 non-null   object \n",
      " 4   policy_state                 1000 non-null   object \n",
      " 5   policy_csl                   1000 non-null   object \n",
      " 6   policy_deductable            1000 non-null   int64  \n",
      " 7   policy_annual_premium        1000 non-null   float64\n",
      " 8   umbrella_limit               1000 non-null   int64  \n",
      " 9   insured_zip                  1000 non-null   int64  \n",
      " 10  insured_sex                  1000 non-null   object \n",
      " 11  insured_education_level      1000 non-null   object \n",
      " 12  insured_occupation           1000 non-null   object \n",
      " 13  insured_hobbies              1000 non-null   object \n",
      " 14  insured_relationship         1000 non-null   object \n",
      " 15  capital-gains                1000 non-null   int64  \n",
      " 16  capital-loss                 1000 non-null   int64  \n",
      " 17  incident_date                1000 non-null   object \n",
      " 18  incident_type                1000 non-null   object \n",
      " 19  collision_type               1000 non-null   object \n",
      " 20  incident_severity            1000 non-null   object \n",
      " 21  authorities_contacted        1000 non-null   object \n",
      " 22  incident_state               1000 non-null   object \n",
      " 23  incident_city                1000 non-null   object \n",
      " 24  incident_location            1000 non-null   object \n",
      " 25  incident_hour_of_the_day     1000 non-null   int64  \n",
      " 26  number_of_vehicles_involved  1000 non-null   int64  \n",
      " 27  property_damage              1000 non-null   object \n",
      " 28  bodily_injuries              1000 non-null   int64  \n",
      " 29  witnesses                    1000 non-null   int64  \n",
      " 30  police_report_available      1000 non-null   object \n",
      " 31  total_claim_amount           1000 non-null   int64  \n",
      " 32  injury_claim                 1000 non-null   int64  \n",
      " 33  property_claim               1000 non-null   int64  \n",
      " 34  vehicle_claim                1000 non-null   int64  \n",
      " 35  auto_make                    1000 non-null   object \n",
      " 36  auto_model                   1000 non-null   object \n",
      " 37  auto_year                    1000 non-null   int64  \n",
      " 38  fraud_reported               1000 non-null   object \n",
      " 39  _c39                         0 non-null      float64\n",
      "dtypes: float64(2), int64(17), object(21)\n",
      "memory usage: 312.6+ KB\n",
      "None\n"
     ]
    }
   ],
   "source": [
    "print(df.info())"
   ]
  },
  {
   "cell_type": "code",
   "execution_count": 11,
   "id": "e561bf76",
   "metadata": {},
   "outputs": [
    {
     "name": "stdout",
     "output_type": "stream",
     "text": [
      "       months_as_customer          age  policy_number  policy_deductable  \\\n",
      "count         1000.000000  1000.000000    1000.000000        1000.000000   \n",
      "mean           203.954000    38.948000  546238.648000        1136.000000   \n",
      "std            115.113174     9.140287  257063.005276         611.864673   \n",
      "min              0.000000    19.000000  100804.000000         500.000000   \n",
      "25%            115.750000    32.000000  335980.250000         500.000000   \n",
      "50%            199.500000    38.000000  533135.000000        1000.000000   \n",
      "75%            276.250000    44.000000  759099.750000        2000.000000   \n",
      "max            479.000000    64.000000  999435.000000        2000.000000   \n",
      "\n",
      "       policy_annual_premium  umbrella_limit    insured_zip  capital-gains  \\\n",
      "count            1000.000000    1.000000e+03    1000.000000    1000.000000   \n",
      "mean             1256.406150    1.101000e+06  501214.488000   25126.100000   \n",
      "std               244.167395    2.297407e+06   71701.610941   27872.187708   \n",
      "min               433.330000   -1.000000e+06  430104.000000       0.000000   \n",
      "25%              1089.607500    0.000000e+00  448404.500000       0.000000   \n",
      "50%              1257.200000    0.000000e+00  466445.500000       0.000000   \n",
      "75%              1415.695000    0.000000e+00  603251.000000   51025.000000   \n",
      "max              2047.590000    1.000000e+07  620962.000000  100500.000000   \n",
      "\n",
      "        capital-loss  incident_hour_of_the_day  number_of_vehicles_involved  \\\n",
      "count    1000.000000               1000.000000                   1000.00000   \n",
      "mean   -26793.700000                 11.644000                      1.83900   \n",
      "std     28104.096686                  6.951373                      1.01888   \n",
      "min   -111100.000000                  0.000000                      1.00000   \n",
      "25%    -51500.000000                  6.000000                      1.00000   \n",
      "50%    -23250.000000                 12.000000                      1.00000   \n",
      "75%         0.000000                 17.000000                      3.00000   \n",
      "max         0.000000                 23.000000                      4.00000   \n",
      "\n",
      "       bodily_injuries    witnesses  total_claim_amount  injury_claim  \\\n",
      "count      1000.000000  1000.000000          1000.00000   1000.000000   \n",
      "mean          0.992000     1.487000         52761.94000   7433.420000   \n",
      "std           0.820127     1.111335         26401.53319   4880.951853   \n",
      "min           0.000000     0.000000           100.00000      0.000000   \n",
      "25%           0.000000     1.000000         41812.50000   4295.000000   \n",
      "50%           1.000000     1.000000         58055.00000   6775.000000   \n",
      "75%           2.000000     2.000000         70592.50000  11305.000000   \n",
      "max           2.000000     3.000000        114920.00000  21450.000000   \n",
      "\n",
      "       property_claim  vehicle_claim    auto_year  _c39  \n",
      "count     1000.000000    1000.000000  1000.000000   0.0  \n",
      "mean      7399.570000   37928.950000  2005.103000   NaN  \n",
      "std       4824.726179   18886.252893     6.015861   NaN  \n",
      "min          0.000000      70.000000  1995.000000   NaN  \n",
      "25%       4445.000000   30292.500000  2000.000000   NaN  \n",
      "50%       6750.000000   42100.000000  2005.000000   NaN  \n",
      "75%      10885.000000   50822.500000  2010.000000   NaN  \n",
      "max      23670.000000   79560.000000  2015.000000   NaN  \n"
     ]
    }
   ],
   "source": [
    "print(df.describe())"
   ]
  },
  {
   "cell_type": "code",
   "execution_count": 29,
   "id": "52d45a3f",
   "metadata": {},
   "outputs": [
    {
     "name": "stdout",
     "output_type": "stream",
     "text": [
      "Index(['months_as_customer', 'age', 'policy_deductable',\n",
      "       'policy_annual_premium', 'umbrella_limit', 'insured_zip',\n",
      "       'capital-gains', 'capital-loss', 'incident_location',\n",
      "       'incident_hour_of_the_day',\n",
      "       ...\n",
      "       'auto_model_36', 'auto_model_37', 'auto_model_38', 'fraud_reported_1',\n",
      "       'policy_bind_year', 'policy_bind_month', 'policy_bind_day',\n",
      "       'incident_year', 'incident_month', 'incident_day'],\n",
      "      dtype='object', length=153)\n"
     ]
    }
   ],
   "source": [
    "print(data.columns)\n"
   ]
  },
  {
   "cell_type": "code",
   "execution_count": 34,
   "id": "dcd5d7cd",
   "metadata": {
    "scrolled": true
   },
   "outputs": [
    {
     "name": "stdout",
     "output_type": "stream",
     "text": [
      "Accuracy: 0.71\n",
      "Classification Report:\n",
      "               precision    recall  f1-score   support\n",
      "\n",
      "           0       0.73      0.96      0.83       145\n",
      "           1       0.33      0.05      0.09        55\n",
      "\n",
      "    accuracy                           0.71       200\n",
      "   macro avg       0.53      0.51      0.46       200\n",
      "weighted avg       0.62      0.71      0.63       200\n",
      "\n"
     ]
    }
   ],
   "source": [
    "from sklearn.impute import SimpleImputer\n",
    "\n",
    "X = data.drop(['fraud_reported_1'], axis=1)\n",
    "y = data['fraud_reported_1']\n",
    "\n",
    "X_train, X_test, y_train, y_test = train_test_split(X, y, test_size=0.2, random_state=42)\n",
    "\n",
    "imputer = SimpleImputer(strategy='mean') \n",
    "\n",
    "X_train_imputed = imputer.fit_transform(X_train)\n",
    "\n",
    "model.fit(X_train_imputed, y_train)\n",
    "\n",
    "X_test_imputed = imputer.transform(X_test)\n",
    "\n",
    "y_pred = model.predict(X_test_imputed)\n",
    "\n",
    "accuracy = accuracy_score(y_test, y_pred)\n",
    "classification_report_result = classification_report(y_test, y_pred)\n",
    "\n",
    "print(f\"Accuracy: {accuracy:.2f}\")\n",
    "print(\"Classification Report:\\n\", classification_report_result)\n"
   ]
  },
  {
   "cell_type": "code",
   "execution_count": null,
   "id": "815be462",
   "metadata": {},
   "outputs": [],
   "source": []
  }
 ],
 "metadata": {
  "kernelspec": {
   "display_name": "Python 3 (ipykernel)",
   "language": "python",
   "name": "python3"
  },
  "language_info": {
   "codemirror_mode": {
    "name": "ipython",
    "version": 3
   },
   "file_extension": ".py",
   "mimetype": "text/x-python",
   "name": "python",
   "nbconvert_exporter": "python",
   "pygments_lexer": "ipython3",
   "version": "3.10.9"
  }
 },
 "nbformat": 4,
 "nbformat_minor": 5
}
