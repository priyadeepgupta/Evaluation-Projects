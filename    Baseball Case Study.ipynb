{
 "cells": [
  {
   "cell_type": "markdown",
   "id": "78f1fa42",
   "metadata": {},
   "source": [
    "#                                 Baseball Case Study"
   ]
  },
  {
   "cell_type": "code",
   "execution_count": 1,
   "id": "de3af967",
   "metadata": {},
   "outputs": [
    {
     "name": "stdout",
     "output_type": "stream",
     "text": [
      "Requirement already satisfied: scikit-learn in c:\\users\\sanja\\anaconda3\\lib\\site-packages (1.2.1)\n",
      "Requirement already satisfied: scipy>=1.3.2 in c:\\users\\sanja\\anaconda3\\lib\\site-packages (from scikit-learn) (1.10.0)\n",
      "Requirement already satisfied: threadpoolctl>=2.0.0 in c:\\users\\sanja\\anaconda3\\lib\\site-packages (from scikit-learn) (2.2.0)\n",
      "Requirement already satisfied: joblib>=1.1.1 in c:\\users\\sanja\\anaconda3\\lib\\site-packages (from scikit-learn) (1.1.1)\n",
      "Requirement already satisfied: numpy>=1.17.3 in c:\\users\\sanja\\anaconda3\\lib\\site-packages (from scikit-learn) (1.23.5)\n",
      "Note: you may need to restart the kernel to use updated packages.\n"
     ]
    }
   ],
   "source": [
    "pip install scikit-learn\n"
   ]
  },
  {
   "cell_type": "code",
   "execution_count": 23,
   "id": "a40491e8",
   "metadata": {},
   "outputs": [],
   "source": [
    "import pandas as pd\n",
    "from sklearn.model_selection import train_test_split\n",
    "from sklearn.linear_model import LinearRegression\n",
    "from sklearn.metrics import mean_squared_error\n",
    "from sklearn.preprocessing import StandardScaler\n",
    "\n",
    "df = pd.read_csv( \"https://github.com/dsrscientist/Data-Science-ML-Capstone-Projects/raw/master/baseball.csv\")"
   ]
  },
  {
   "cell_type": "code",
   "execution_count": 17,
   "id": "694a01db",
   "metadata": {},
   "outputs": [
    {
     "name": "stdout",
     "output_type": "stream",
     "text": [
      "    W    R    AB     H   2B  3B   HR   BB    SO   SB   RA   ER   ERA  CG  SHO  \\\n",
      "0  95  724  5575  1497  300  42  139  383   973  104  641  601  3.73   2    8   \n",
      "1  83  696  5467  1349  277  44  156  439  1264   70  700  653  4.07   2   12   \n",
      "2  81  669  5439  1395  303  29  141  533  1157   86  640  584  3.67  11   10   \n",
      "3  76  622  5533  1381  260  27  136  404  1231   68  701  643  3.98   7    9   \n",
      "4  74  689  5605  1515  289  49  151  455  1259   83  803  746  4.64   7   12   \n",
      "\n",
      "   SV    E  \n",
      "0  56   88  \n",
      "1  45   86  \n",
      "2  38   79  \n",
      "3  37  101  \n",
      "4  35   86  \n"
     ]
    }
   ],
   "source": [
    "print(df.head())"
   ]
  },
  {
   "cell_type": "code",
   "execution_count": 22,
   "id": "a737e49d",
   "metadata": {},
   "outputs": [
    {
     "name": "stdout",
     "output_type": "stream",
     "text": [
      "<class 'pandas.core.frame.DataFrame'>\n",
      "RangeIndex: 30 entries, 0 to 29\n",
      "Data columns (total 17 columns):\n",
      " #   Column  Non-Null Count  Dtype  \n",
      "---  ------  --------------  -----  \n",
      " 0   W       30 non-null     int64  \n",
      " 1   R       30 non-null     int64  \n",
      " 2   AB      30 non-null     int64  \n",
      " 3   H       30 non-null     int64  \n",
      " 4   2B      30 non-null     int64  \n",
      " 5   3B      30 non-null     int64  \n",
      " 6   HR      30 non-null     int64  \n",
      " 7   BB      30 non-null     int64  \n",
      " 8   SO      30 non-null     int64  \n",
      " 9   SB      30 non-null     int64  \n",
      " 10  RA      30 non-null     int64  \n",
      " 11  ER      30 non-null     int64  \n",
      " 12  ERA     30 non-null     float64\n",
      " 13  CG      30 non-null     int64  \n",
      " 14  SHO     30 non-null     int64  \n",
      " 15  SV      30 non-null     int64  \n",
      " 16  E       30 non-null     int64  \n",
      "dtypes: float64(1), int64(16)\n",
      "memory usage: 4.1 KB\n"
     ]
    }
   ],
   "source": [
    "df.info()"
   ]
  },
  {
   "cell_type": "code",
   "execution_count": 36,
   "id": "25c0a481",
   "metadata": {},
   "outputs": [
    {
     "name": "stdout",
     "output_type": "stream",
     "text": [
      "Mean Squared Error: 27.94303250666778\n",
      "   Feature  Coefficient\n",
      "0        R     5.851020\n",
      "1       AB    -2.156226\n",
      "2        H     1.101809\n",
      "3       2B    -1.105471\n",
      "4       3B     0.167952\n",
      "5       HR    -0.878061\n",
      "6       BB    -1.267128\n",
      "7       SO    -0.123100\n",
      "8       SB    -0.083314\n",
      "9       RA     4.402713\n",
      "10      ER    13.663567\n",
      "11     ERA   -21.935566\n",
      "12      CG     1.621777\n",
      "13     SHO     1.203343\n",
      "14      SV     5.158201\n",
      "15       E    -0.141154\n",
      "\n",
      "Mean of each feature:\n",
      "R       688.233333\n",
      "AB     5516.266667\n",
      "H      1403.533333\n",
      "2B      274.733333\n",
      "3B       31.300000\n",
      "HR      163.633333\n",
      "BB      469.100000\n",
      "SO     1248.200000\n",
      "SB       83.500000\n",
      "RA      688.233333\n",
      "ER      635.833333\n",
      "ERA       3.956333\n",
      "CG        3.466667\n",
      "SHO      11.300000\n",
      "SV       43.066667\n",
      "E        94.333333\n",
      "dtype: float64\n",
      "\n",
      "Standard deviation of each feature:\n",
      "R       58.761754\n",
      "AB      70.467372\n",
      "H       57.140923\n",
      "2B      18.095405\n",
      "3B      10.452355\n",
      "HR      31.823309\n",
      "BB      57.053725\n",
      "SO     103.759470\n",
      "SB      22.815225\n",
      "RA      72.108005\n",
      "ER      70.140786\n",
      "ERA      0.454089\n",
      "CG       2.763473\n",
      "SHO      4.120177\n",
      "SV       7.869335\n",
      "E       13.958889\n",
      "dtype: float64\n"
     ]
    }
   ],
   "source": [
    "X = df.drop('W', axis=1)\n",
    "y = df['W']\n",
    "\n",
    "X_train, X_test, y_train, y_test = train_test_split(X, y, test_size=0.2, random_state=42)\n",
    "\n",
    "scaler = StandardScaler()\n",
    "X_train_scaled = scaler.fit_transform(X_train)\n",
    "X_test_scaled = scaler.transform(X_test)\n",
    "\n",
    "model = LinearRegression()\n",
    "model.fit(X_train_scaled, y_train)\n",
    "\n",
    "y_pred = model.predict(X_test_scaled)\n",
    "\n",
    "mse = mean_squared_error(y_test, y_pred)\n",
    "print(f'Mean Squared Error: {mse}')\n",
    "\n",
    "coefficients = pd.DataFrame({'Feature': X.columns, 'Coefficient': model.coef_})\n",
    "print(coefficients)\n",
    "\n",
    "mean_values = X.mean()\n",
    "std_values = X.std()\n",
    "\n",
    "print(\"\\nMean of each feature:\")\n",
    "print(mean_values)\n",
    "\n",
    "print(\"\\nStandard deviation of each feature:\")\n",
    "print(std_values)\n",
    "\n"
   ]
  },
  {
   "cell_type": "code",
   "execution_count": 35,
   "id": "4f830cde",
   "metadata": {},
   "outputs": [
    {
     "name": "stdout",
     "output_type": "stream",
     "text": [
      "Mean Squared Error: 27.94303250666778\n",
      "Predicted Number of Wins: 96.31913948773945\n"
     ]
    },
    {
     "name": "stderr",
     "output_type": "stream",
     "text": [
      "C:\\Users\\sanja\\anaconda3\\lib\\site-packages\\sklearn\\base.py:420: UserWarning: X does not have valid feature names, but StandardScaler was fitted with feature names\n",
      "  warnings.warn(\n"
     ]
    }
   ],
   "source": [
    "mse = mean_squared_error(y_test, y_pred)\n",
    "print(f\"Mean Squared Error: {mse}\")\n",
    "\n",
    "new_data_scaled = scaler.transform(new_data)\n",
    "predicted_wins = model.predict(new_data_scaled)\n",
    "print(f\"Predicted Number of Wins: {predicted_wins[0]}\")\n"
   ]
  },
  {
   "cell_type": "code",
   "execution_count": null,
   "id": "43d25797",
   "metadata": {},
   "outputs": [],
   "source": []
  }
 ],
 "metadata": {
  "kernelspec": {
   "display_name": "Python 3 (ipykernel)",
   "language": "python",
   "name": "python3"
  },
  "language_info": {
   "codemirror_mode": {
    "name": "ipython",
    "version": 3
   },
   "file_extension": ".py",
   "mimetype": "text/x-python",
   "name": "python",
   "nbconvert_exporter": "python",
   "pygments_lexer": "ipython3",
   "version": "3.10.9"
  }
 },
 "nbformat": 4,
 "nbformat_minor": 5
}
