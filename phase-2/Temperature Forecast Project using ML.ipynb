{
 "cells": [
  {
   "cell_type": "markdown",
   "id": "12b73b6d",
   "metadata": {},
   "source": [
    "#                                  Temperature Forecast Project using ML"
   ]
  },
  {
   "cell_type": "code",
   "execution_count": 1,
   "id": "127221d5",
   "metadata": {},
   "outputs": [
    {
     "name": "stdout",
     "output_type": "stream",
     "text": [
      "Requirement already satisfied: pandas in c:\\users\\sanja\\anaconda3\\lib\\site-packages (1.5.3)Note: you may need to restart the kernel to use updated packages.\n",
      "\n",
      "Requirement already satisfied: scikit-learn in c:\\users\\sanja\\anaconda3\\lib\\site-packages (1.2.1)\n",
      "Requirement already satisfied: pytz>=2020.1 in c:\\users\\sanja\\anaconda3\\lib\\site-packages (from pandas) (2022.7)\n",
      "Requirement already satisfied: python-dateutil>=2.8.1 in c:\\users\\sanja\\anaconda3\\lib\\site-packages (from pandas) (2.8.2)\n",
      "Requirement already satisfied: numpy>=1.21.0 in c:\\users\\sanja\\anaconda3\\lib\\site-packages (from pandas) (1.23.5)\n",
      "Requirement already satisfied: scipy>=1.3.2 in c:\\users\\sanja\\anaconda3\\lib\\site-packages (from scikit-learn) (1.10.0)\n",
      "Requirement already satisfied: joblib>=1.1.1 in c:\\users\\sanja\\anaconda3\\lib\\site-packages (from scikit-learn) (1.1.1)\n",
      "Requirement already satisfied: threadpoolctl>=2.0.0 in c:\\users\\sanja\\anaconda3\\lib\\site-packages (from scikit-learn) (2.2.0)\n",
      "Requirement already satisfied: six>=1.5 in c:\\users\\sanja\\anaconda3\\lib\\site-packages (from python-dateutil>=2.8.1->pandas) (1.16.0)\n"
     ]
    }
   ],
   "source": [
    "pip install pandas scikit-learn"
   ]
  },
  {
   "cell_type": "code",
   "execution_count": 2,
   "id": "71612a6b",
   "metadata": {},
   "outputs": [
    {
     "name": "stdout",
     "output_type": "stream",
     "text": [
      "      station        Date  Present_Tmax  Present_Tmin  LDAPS_RHmin  \\\n",
      "0         1.0  30-06-2013          28.7          21.4    58.255688   \n",
      "1         2.0  30-06-2013          31.9          21.6    52.263397   \n",
      "2         3.0  30-06-2013          31.6          23.3    48.690479   \n",
      "3         4.0  30-06-2013          32.0          23.4    58.239788   \n",
      "4         5.0  30-06-2013          31.4          21.9    56.174095   \n",
      "...       ...         ...           ...           ...          ...   \n",
      "7747     23.0  30-08-2017          23.3          17.1    26.741310   \n",
      "7748     24.0  30-08-2017          23.3          17.7    24.040634   \n",
      "7749     25.0  30-08-2017          23.2          17.4    22.933014   \n",
      "7750      NaN         NaN          20.0          11.3    19.794666   \n",
      "7751      NaN         NaN          37.6          29.9    98.524734   \n",
      "\n",
      "      LDAPS_RHmax  LDAPS_Tmax_lapse  LDAPS_Tmin_lapse   LDAPS_WS    LDAPS_LH  \\\n",
      "0       91.116364         28.074101         23.006936   6.818887   69.451805   \n",
      "1       90.604721         29.850689         24.035009   5.691890   51.937448   \n",
      "2       83.973587         30.091292         24.565633   6.138224   20.573050   \n",
      "3       96.483688         29.704629         23.326177   5.650050   65.727144   \n",
      "4       90.155128         29.113934         23.486480   5.735004  107.965535   \n",
      "...           ...               ...               ...        ...         ...   \n",
      "7747    78.869858         26.352081         18.775678   6.148918   72.058294   \n",
      "7748    77.294975         27.010193         18.733519   6.542819   47.241457   \n",
      "7749    77.243744         27.939516         18.522965   7.289264    9.090034   \n",
      "7750    58.936283         17.624954         14.272646   2.882580  -13.603212   \n",
      "7751   100.000153         38.542255         29.619342  21.857621  213.414006   \n",
      "\n",
      "      ...  LDAPS_PPT2  LDAPS_PPT3  LDAPS_PPT4      lat      lon       DEM  \\\n",
      "0     ...    0.000000    0.000000    0.000000  37.6046  126.991  212.3350   \n",
      "1     ...    0.000000    0.000000    0.000000  37.6046  127.032   44.7624   \n",
      "2     ...    0.000000    0.000000    0.000000  37.5776  127.058   33.3068   \n",
      "3     ...    0.000000    0.000000    0.000000  37.6450  127.022   45.7160   \n",
      "4     ...    0.000000    0.000000    0.000000  37.5507  127.135   35.0380   \n",
      "...   ...         ...         ...         ...      ...      ...       ...   \n",
      "7747  ...    0.000000    0.000000    0.000000  37.5372  126.891   15.5876   \n",
      "7748  ...    0.000000    0.000000    0.000000  37.5237  126.909   17.2956   \n",
      "7749  ...    0.000000    0.000000    0.000000  37.5237  126.970   19.5844   \n",
      "7750  ...    0.000000    0.000000    0.000000  37.4562  126.826   12.3700   \n",
      "7751  ...   21.621661   15.841235   16.655469  37.6450  127.135  212.3350   \n",
      "\n",
      "         Slope  Solar radiation  Next_Tmax  Next_Tmin  \n",
      "0     2.785000      5992.895996       29.1       21.2  \n",
      "1     0.514100      5869.312500       30.5       22.5  \n",
      "2     0.266100      5863.555664       31.1       23.9  \n",
      "3     2.534800      5856.964844       31.7       24.3  \n",
      "4     0.505500      5859.552246       31.2       22.5  \n",
      "...        ...              ...        ...        ...  \n",
      "7747  0.155400      4443.313965       28.3       18.1  \n",
      "7748  0.222300      4438.373535       28.6       18.8  \n",
      "7749  0.271300      4451.345215       27.8       17.4  \n",
      "7750  0.098475      4329.520508       17.4       11.3  \n",
      "7751  5.178230      5992.895996       38.9       29.8  \n",
      "\n",
      "[7752 rows x 25 columns]\n"
     ]
    }
   ],
   "source": [
    "import pandas as pd\n",
    "\n",
    "df = pd.read_csv(\"https://github.com/dsrscientist/Dataset2/raw/main/temperature.csv\")\n",
    "print(df)"
   ]
  },
  {
   "cell_type": "code",
   "execution_count": 3,
   "id": "f7b5a171",
   "metadata": {},
   "outputs": [
    {
     "name": "stdout",
     "output_type": "stream",
     "text": [
      "   station        Date  Present_Tmax  Present_Tmin  LDAPS_RHmin  LDAPS_RHmax  \\\n",
      "0      1.0  30-06-2013          28.7          21.4    58.255688    91.116364   \n",
      "1      2.0  30-06-2013          31.9          21.6    52.263397    90.604721   \n",
      "2      3.0  30-06-2013          31.6          23.3    48.690479    83.973587   \n",
      "3      4.0  30-06-2013          32.0          23.4    58.239788    96.483688   \n",
      "4      5.0  30-06-2013          31.4          21.9    56.174095    90.155128   \n",
      "\n",
      "   LDAPS_Tmax_lapse  LDAPS_Tmin_lapse  LDAPS_WS    LDAPS_LH  ...  LDAPS_PPT2  \\\n",
      "0         28.074101         23.006936  6.818887   69.451805  ...         0.0   \n",
      "1         29.850689         24.035009  5.691890   51.937448  ...         0.0   \n",
      "2         30.091292         24.565633  6.138224   20.573050  ...         0.0   \n",
      "3         29.704629         23.326177  5.650050   65.727144  ...         0.0   \n",
      "4         29.113934         23.486480  5.735004  107.965535  ...         0.0   \n",
      "\n",
      "   LDAPS_PPT3  LDAPS_PPT4      lat      lon       DEM   Slope  \\\n",
      "0         0.0         0.0  37.6046  126.991  212.3350  2.7850   \n",
      "1         0.0         0.0  37.6046  127.032   44.7624  0.5141   \n",
      "2         0.0         0.0  37.5776  127.058   33.3068  0.2661   \n",
      "3         0.0         0.0  37.6450  127.022   45.7160  2.5348   \n",
      "4         0.0         0.0  37.5507  127.135   35.0380  0.5055   \n",
      "\n",
      "   Solar radiation  Next_Tmax  Next_Tmin  \n",
      "0      5992.895996       29.1       21.2  \n",
      "1      5869.312500       30.5       22.5  \n",
      "2      5863.555664       31.1       23.9  \n",
      "3      5856.964844       31.7       24.3  \n",
      "4      5859.552246       31.2       22.5  \n",
      "\n",
      "[5 rows x 25 columns]\n"
     ]
    }
   ],
   "source": [
    "print(df.head())"
   ]
  },
  {
   "cell_type": "code",
   "execution_count": 4,
   "id": "63b471c0",
   "metadata": {},
   "outputs": [
    {
     "name": "stdout",
     "output_type": "stream",
     "text": [
      "           station  Present_Tmax  Present_Tmin  LDAPS_RHmin  LDAPS_RHmax  \\\n",
      "count  7750.000000   7682.000000   7682.000000  7677.000000  7677.000000   \n",
      "mean     13.000000     29.768211     23.225059    56.759372    88.374804   \n",
      "std       7.211568      2.969999      2.413961    14.668111     7.192004   \n",
      "min       1.000000     20.000000     11.300000    19.794666    58.936283   \n",
      "25%       7.000000     27.800000     21.700000    45.963543    84.222862   \n",
      "50%      13.000000     29.900000     23.400000    55.039024    89.793480   \n",
      "75%      19.000000     32.000000     24.900000    67.190056    93.743629   \n",
      "max      25.000000     37.600000     29.900000    98.524734   100.000153   \n",
      "\n",
      "       LDAPS_Tmax_lapse  LDAPS_Tmin_lapse     LDAPS_WS     LDAPS_LH  \\\n",
      "count       7677.000000       7677.000000  7677.000000  7677.000000   \n",
      "mean          29.613447         23.512589     7.097875    62.505019   \n",
      "std            2.947191          2.345347     2.183836    33.730589   \n",
      "min           17.624954         14.272646     2.882580   -13.603212   \n",
      "25%           27.673499         22.089739     5.678705    37.266753   \n",
      "50%           29.703426         23.760199     6.547470    56.865482   \n",
      "75%           31.710450         25.152909     8.032276    84.223616   \n",
      "max           38.542255         29.619342    21.857621   213.414006   \n",
      "\n",
      "         LDAPS_CC1  ...   LDAPS_PPT2   LDAPS_PPT3   LDAPS_PPT4          lat  \\\n",
      "count  7677.000000  ...  7677.000000  7677.000000  7677.000000  7752.000000   \n",
      "mean      0.368774  ...     0.485003     0.278200     0.269407    37.544722   \n",
      "std       0.262458  ...     1.762807     1.161809     1.206214     0.050352   \n",
      "min       0.000000  ...     0.000000     0.000000     0.000000    37.456200   \n",
      "25%       0.146654  ...     0.000000     0.000000     0.000000    37.510200   \n",
      "50%       0.315697  ...     0.000000     0.000000     0.000000    37.550700   \n",
      "75%       0.575489  ...     0.018364     0.007896     0.000041    37.577600   \n",
      "max       0.967277  ...    21.621661    15.841235    16.655469    37.645000   \n",
      "\n",
      "               lon          DEM        Slope  Solar radiation    Next_Tmax  \\\n",
      "count  7752.000000  7752.000000  7752.000000      7752.000000  7725.000000   \n",
      "mean    126.991397    61.867972     1.257048      5341.502803    30.274887   \n",
      "std       0.079435    54.279780     1.370444       429.158867     3.128010   \n",
      "min     126.826000    12.370000     0.098475      4329.520508    17.400000   \n",
      "25%     126.937000    28.700000     0.271300      4999.018555    28.200000   \n",
      "50%     126.995000    45.716000     0.618000      5436.345215    30.500000   \n",
      "75%     127.042000    59.832400     1.767800      5728.316406    32.600000   \n",
      "max     127.135000   212.335000     5.178230      5992.895996    38.900000   \n",
      "\n",
      "         Next_Tmin  \n",
      "count  7725.000000  \n",
      "mean     22.932220  \n",
      "std       2.487613  \n",
      "min      11.300000  \n",
      "25%      21.300000  \n",
      "50%      23.100000  \n",
      "75%      24.600000  \n",
      "max      29.800000  \n",
      "\n",
      "[8 rows x 24 columns]\n"
     ]
    }
   ],
   "source": [
    "print(df.describe())"
   ]
  },
  {
   "cell_type": "code",
   "execution_count": 5,
   "id": "a1e17407",
   "metadata": {},
   "outputs": [
    {
     "name": "stdout",
     "output_type": "stream",
     "text": [
      "<class 'pandas.core.frame.DataFrame'>\n",
      "RangeIndex: 7752 entries, 0 to 7751\n",
      "Data columns (total 25 columns):\n",
      " #   Column            Non-Null Count  Dtype  \n",
      "---  ------            --------------  -----  \n",
      " 0   station           7750 non-null   float64\n",
      " 1   Date              7750 non-null   object \n",
      " 2   Present_Tmax      7682 non-null   float64\n",
      " 3   Present_Tmin      7682 non-null   float64\n",
      " 4   LDAPS_RHmin       7677 non-null   float64\n",
      " 5   LDAPS_RHmax       7677 non-null   float64\n",
      " 6   LDAPS_Tmax_lapse  7677 non-null   float64\n",
      " 7   LDAPS_Tmin_lapse  7677 non-null   float64\n",
      " 8   LDAPS_WS          7677 non-null   float64\n",
      " 9   LDAPS_LH          7677 non-null   float64\n",
      " 10  LDAPS_CC1         7677 non-null   float64\n",
      " 11  LDAPS_CC2         7677 non-null   float64\n",
      " 12  LDAPS_CC3         7677 non-null   float64\n",
      " 13  LDAPS_CC4         7677 non-null   float64\n",
      " 14  LDAPS_PPT1        7677 non-null   float64\n",
      " 15  LDAPS_PPT2        7677 non-null   float64\n",
      " 16  LDAPS_PPT3        7677 non-null   float64\n",
      " 17  LDAPS_PPT4        7677 non-null   float64\n",
      " 18  lat               7752 non-null   float64\n",
      " 19  lon               7752 non-null   float64\n",
      " 20  DEM               7752 non-null   float64\n",
      " 21  Slope             7752 non-null   float64\n",
      " 22  Solar radiation   7752 non-null   float64\n",
      " 23  Next_Tmax         7725 non-null   float64\n",
      " 24  Next_Tmin         7725 non-null   float64\n",
      "dtypes: float64(24), object(1)\n",
      "memory usage: 1.5+ MB\n",
      "None\n"
     ]
    }
   ],
   "source": [
    "print(df.info())"
   ]
  },
  {
   "cell_type": "code",
   "execution_count": 6,
   "id": "e869f323",
   "metadata": {},
   "outputs": [
    {
     "name": "stdout",
     "output_type": "stream",
     "text": [
      "station              2\n",
      "Date                 2\n",
      "Present_Tmax        70\n",
      "Present_Tmin        70\n",
      "LDAPS_RHmin         75\n",
      "LDAPS_RHmax         75\n",
      "LDAPS_Tmax_lapse    75\n",
      "LDAPS_Tmin_lapse    75\n",
      "LDAPS_WS            75\n",
      "LDAPS_LH            75\n",
      "LDAPS_CC1           75\n",
      "LDAPS_CC2           75\n",
      "LDAPS_CC3           75\n",
      "LDAPS_CC4           75\n",
      "LDAPS_PPT1          75\n",
      "LDAPS_PPT2          75\n",
      "LDAPS_PPT3          75\n",
      "LDAPS_PPT4          75\n",
      "lat                  0\n",
      "lon                  0\n",
      "DEM                  0\n",
      "Slope                0\n",
      "Solar radiation      0\n",
      "Next_Tmax           27\n",
      "Next_Tmin           27\n",
      "dtype: int64\n"
     ]
    }
   ],
   "source": [
    "print(df.isnull().sum())"
   ]
  },
  {
   "cell_type": "code",
   "execution_count": 7,
   "id": "d55294c1",
   "metadata": {},
   "outputs": [],
   "source": [
    "import pandas as pd\n",
    "from sklearn.model_selection import train_test_split\n",
    "from sklearn.ensemble import RandomForestRegressor\n",
    "from sklearn.metrics import mean_squared_error\n",
    "from sklearn.impute import SimpleImputer\n",
    "\n"
   ]
  },
  {
   "cell_type": "code",
   "execution_count": 8,
   "id": "5cae86e2",
   "metadata": {},
   "outputs": [
    {
     "name": "stdout",
     "output_type": "stream",
     "text": [
      "\n",
      "Minimum Temperature Model MSE: 0.5806766370986068\n",
      "Maximum Temperature Model MSE: 0.9013944354208696\n"
     ]
    }
   ],
   "source": [
    "\n",
    "numeric_columns = df.select_dtypes(include=['float64']).columns\n",
    "imputer = SimpleImputer(strategy='mean')\n",
    "df[numeric_columns] = imputer.fit_transform(df[numeric_columns])\n",
    "\n",
    "df = df.drop('Date', axis=1)  \n",
    "\n",
    "X_min = df.drop(['Next_Tmax', 'Next_Tmin'], axis=1)\n",
    "y_min = df['Next_Tmin']\n",
    "\n",
    "\n",
    "X_min_train, X_min_test, y_min_train, y_min_test = train_test_split(X_min, y_min, test_size=0.2, random_state=42)\n",
    "\n",
    "X_max = df.drop(['Next_Tmax', 'Next_Tmin'], axis=1)\n",
    "y_max = df['Next_Tmax']\n",
    "\n",
    "X_max_train, X_max_test, y_max_train, y_max_test = train_test_split(X_max, y_max, test_size=0.2, random_state=42)\n",
    "\n",
    "min_temp_model = RandomForestRegressor()\n",
    "max_temp_model = RandomForestRegressor()\n",
    "\n",
    "min_temp_model.fit(X_min_train, y_min_train)\n",
    "max_temp_model.fit(X_max_train, y_max_train)\n",
    "\n",
    "y_min_pred = min_temp_model.predict(X_min_test)\n",
    "y_max_pred = max_temp_model.predict(X_max_test)\n",
    "\n",
    "min_temp_mse = mean_squared_error(y_min_test, y_min_pred)\n",
    "max_temp_mse = mean_squared_error(y_max_test, y_max_pred)\n",
    "\n",
    "print(f\"\\nMinimum Temperature Model MSE: {min_temp_mse}\")\n",
    "print(f\"Maximum Temperature Model MSE: {max_temp_mse}\")\n"
   ]
  },
  {
   "cell_type": "code",
   "execution_count": null,
   "id": "ac99a6e0",
   "metadata": {},
   "outputs": [],
   "source": []
  },
  {
   "cell_type": "code",
   "execution_count": null,
   "id": "8fe6c6b3",
   "metadata": {},
   "outputs": [],
   "source": []
  },
  {
   "cell_type": "code",
   "execution_count": null,
   "id": "c3088ea6",
   "metadata": {},
   "outputs": [],
   "source": []
  }
 ],
 "metadata": {
  "kernelspec": {
   "display_name": "Python 3 (ipykernel)",
   "language": "python",
   "name": "python3"
  },
  "language_info": {
   "codemirror_mode": {
    "name": "ipython",
    "version": 3
   },
   "file_extension": ".py",
   "mimetype": "text/x-python",
   "name": "python",
   "nbconvert_exporter": "python",
   "pygments_lexer": "ipython3",
   "version": "3.10.9"
  }
 },
 "nbformat": 4,
 "nbformat_minor": 5
}
