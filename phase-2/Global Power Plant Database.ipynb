{
 "cells": [
  {
   "cell_type": "markdown",
   "id": "b45a5752",
   "metadata": {},
   "source": [
    "#                              Global Power Plant Database"
   ]
  },
  {
   "cell_type": "code",
   "execution_count": 12,
   "id": "f854cab2",
   "metadata": {},
   "outputs": [
    {
     "name": "stdout",
     "output_type": "stream",
     "text": [
      "Requirement already satisfied: pandas in c:\\users\\sanja\\anaconda3\\lib\\site-packages (1.5.3)\n",
      "Requirement already satisfied: scikit-learn in c:\\users\\sanja\\anaconda3\\lib\\site-packages (1.2.1)\n",
      "Requirement already satisfied: numpy>=1.21.0 in c:\\users\\sanja\\anaconda3\\lib\\site-packages (from pandas) (1.23.5)\n",
      "Requirement already satisfied: python-dateutil>=2.8.1 in c:\\users\\sanja\\anaconda3\\lib\\site-packages (from pandas) (2.8.2)\n",
      "Requirement already satisfied: pytz>=2020.1 in c:\\users\\sanja\\anaconda3\\lib\\site-packages (from pandas) (2022.7)\n",
      "Requirement already satisfied: scipy>=1.3.2 in c:\\users\\sanja\\anaconda3\\lib\\site-packages (from scikit-learn) (1.10.0)\n",
      "Requirement already satisfied: threadpoolctl>=2.0.0 in c:\\users\\sanja\\anaconda3\\lib\\site-packages (from scikit-learn) (2.2.0)\n",
      "Requirement already satisfied: joblib>=1.1.1 in c:\\users\\sanja\\anaconda3\\lib\\site-packages (from scikit-learn) (1.1.1)\n",
      "Requirement already satisfied: six>=1.5 in c:\\users\\sanja\\anaconda3\\lib\\site-packages (from python-dateutil>=2.8.1->pandas) (1.16.0)\n",
      "Note: you may need to restart the kernel to use updated packages.\n"
     ]
    }
   ],
   "source": [
    "pip install pandas scikit-learn"
   ]
  },
  {
   "cell_type": "code",
   "execution_count": 13,
   "id": "f888160c",
   "metadata": {},
   "outputs": [
    {
     "name": "stdout",
     "output_type": "stream",
     "text": [
      "Requirement already satisfied: pandas in c:\\users\\sanja\\anaconda3\\lib\\site-packages (1.5.3)\n",
      "Requirement already satisfied: matplotlib in c:\\users\\sanja\\anaconda3\\lib\\site-packages (3.7.0)\n",
      "Requirement already satisfied: seaborn in c:\\users\\sanja\\anaconda3\\lib\\site-packages (0.12.2)\n",
      "Requirement already satisfied: pytz>=2020.1 in c:\\users\\sanja\\anaconda3\\lib\\site-packages (from pandas) (2022.7)\n",
      "Requirement already satisfied: python-dateutil>=2.8.1 in c:\\users\\sanja\\anaconda3\\lib\\site-packages (from pandas) (2.8.2)\n",
      "Requirement already satisfied: numpy>=1.21.0 in c:\\users\\sanja\\anaconda3\\lib\\site-packages (from pandas) (1.23.5)\n",
      "Requirement already satisfied: packaging>=20.0 in c:\\users\\sanja\\anaconda3\\lib\\site-packages (from matplotlib) (22.0)\n",
      "Requirement already satisfied: contourpy>=1.0.1 in c:\\users\\sanja\\anaconda3\\lib\\site-packages (from matplotlib) (1.0.5)\n",
      "Requirement already satisfied: cycler>=0.10 in c:\\users\\sanja\\anaconda3\\lib\\site-packages (from matplotlib) (0.11.0)\n",
      "Requirement already satisfied: kiwisolver>=1.0.1 in c:\\users\\sanja\\anaconda3\\lib\\site-packages (from matplotlib) (1.4.4)\n",
      "Requirement already satisfied: fonttools>=4.22.0 in c:\\users\\sanja\\anaconda3\\lib\\site-packages (from matplotlib) (4.25.0)\n",
      "Requirement already satisfied: pyparsing>=2.3.1 in c:\\users\\sanja\\anaconda3\\lib\\site-packages (from matplotlib) (3.0.9)\n",
      "Requirement already satisfied: pillow>=6.2.0 in c:\\users\\sanja\\anaconda3\\lib\\site-packages (from matplotlib) (9.4.0)\n",
      "Requirement already satisfied: six>=1.5 in c:\\users\\sanja\\anaconda3\\lib\\site-packages (from python-dateutil>=2.8.1->pandas) (1.16.0)\n",
      "Note: you may need to restart the kernel to use updated packages.\n"
     ]
    }
   ],
   "source": [
    "pip install pandas matplotlib seaborn"
   ]
  },
  {
   "cell_type": "code",
   "execution_count": 28,
   "id": "6ea6eef0",
   "metadata": {},
   "outputs": [
    {
     "name": "stdout",
     "output_type": "stream",
     "text": [
      "    country country_long                          name   gppd_idnr  \\\n",
      "0       IND        India              ACME Solar Tower  WRI1020239   \n",
      "1       IND        India           ADITYA CEMENT WORKS  WRI1019881   \n",
      "2       IND        India      AES Saurashtra Windfarms  WRI1026669   \n",
      "3       IND        India                   AGARTALA GT  IND0000001   \n",
      "4       IND        India                  AKALTARA TPP  IND0000002   \n",
      "..      ...          ...                           ...         ...   \n",
      "902     IND        India                  YERMARUS TPP  IND0000513   \n",
      "903     IND        India  Yelesandra Solar Power Plant  WRI1026222   \n",
      "904     IND        India  Yelisirur wind power project  WRI1026776   \n",
      "905     IND        India                   ZAWAR MINES  WRI1019901   \n",
      "906     IND        India       iEnergy Theni Wind Farm  WRI1026761   \n",
      "\n",
      "     capacity_mw  latitude  longitude primary_fuel other_fuel1 other_fuel2  \\\n",
      "0            2.5   28.1839    73.2407        Solar         NaN         NaN   \n",
      "1           98.0   24.7663    74.6090         Coal         NaN         NaN   \n",
      "2           39.2   21.9038    69.3732         Wind         NaN         NaN   \n",
      "3          135.0   23.8712    91.3602          Gas         NaN         NaN   \n",
      "4         1800.0   21.9603    82.4091         Coal         Oil         NaN   \n",
      "..           ...       ...        ...          ...         ...         ...   \n",
      "902       1600.0   16.2949    77.3568         Coal         Oil         NaN   \n",
      "903          3.0   12.8932    78.1654        Solar         NaN         NaN   \n",
      "904         25.5   15.2758    75.5811         Wind         NaN         NaN   \n",
      "905         80.0   24.3500    73.7477         Coal         NaN         NaN   \n",
      "906         16.5    9.9344    77.4768         Wind         NaN         NaN   \n",
      "\n",
      "     ...  year_of_capacity_data  generation_gwh_2013 generation_gwh_2014  \\\n",
      "0    ...                    NaN                  NaN                 NaN   \n",
      "1    ...                    NaN                  NaN                 NaN   \n",
      "2    ...                    NaN                  NaN                 NaN   \n",
      "3    ...                 2019.0                  NaN          617.789264   \n",
      "4    ...                 2019.0                  NaN         3035.550000   \n",
      "..   ...                    ...                  ...                 ...   \n",
      "902  ...                 2019.0                  NaN                 NaN   \n",
      "903  ...                    NaN                  NaN                 NaN   \n",
      "904  ...                    NaN                  NaN                 NaN   \n",
      "905  ...                    NaN                  NaN                 NaN   \n",
      "906  ...                    NaN                  NaN                 NaN   \n",
      "\n",
      "    generation_gwh_2015 generation_gwh_2016 generation_gwh_2017  \\\n",
      "0                   NaN                 NaN                 NaN   \n",
      "1                   NaN                 NaN                 NaN   \n",
      "2                   NaN                 NaN                 NaN   \n",
      "3            843.747000          886.004428          663.774500   \n",
      "4           5916.370000         6243.000000         5385.579736   \n",
      "..                  ...                 ...                 ...   \n",
      "902            0.994875          233.596650          865.400000   \n",
      "903                 NaN                 NaN                 NaN   \n",
      "904                 NaN                 NaN                 NaN   \n",
      "905                 NaN                 NaN                 NaN   \n",
      "906                 NaN                 NaN                 NaN   \n",
      "\n",
      "     generation_gwh_2018  generation_gwh_2019         generation_data_source  \\\n",
      "0                    NaN                  NaN                            NaN   \n",
      "1                    NaN                  NaN                            NaN   \n",
      "2                    NaN                  NaN                            NaN   \n",
      "3             626.239128                  NaN  Central Electricity Authority   \n",
      "4            7279.000000                  NaN  Central Electricity Authority   \n",
      "..                   ...                  ...                            ...   \n",
      "902           686.500000                  NaN  Central Electricity Authority   \n",
      "903                  NaN                  NaN                            NaN   \n",
      "904                  NaN                  NaN                            NaN   \n",
      "905                  NaN                  NaN                            NaN   \n",
      "906                  NaN                  NaN                            NaN   \n",
      "\n",
      "     estimated_generation_gwh  \n",
      "0                         NaN  \n",
      "1                         NaN  \n",
      "2                         NaN  \n",
      "3                         NaN  \n",
      "4                         NaN  \n",
      "..                        ...  \n",
      "902                       NaN  \n",
      "903                       NaN  \n",
      "904                       NaN  \n",
      "905                       NaN  \n",
      "906                       NaN  \n",
      "\n",
      "[907 rows x 27 columns]\n"
     ]
    }
   ],
   "source": [
    "import pandas as pd\n",
    "\n",
    "df = pd.read_csv(\"https://github.com/wri/global-power-plant-database/raw/master/source_databases_csv/database_IND.csv\")\n",
    "print(df)"
   ]
  },
  {
   "cell_type": "code",
   "execution_count": 15,
   "id": "b97cf197",
   "metadata": {},
   "outputs": [
    {
     "name": "stdout",
     "output_type": "stream",
     "text": [
      "  country country_long                      name   gppd_idnr  capacity_mw  \\\n",
      "0     IND        India          ACME Solar Tower  WRI1020239          2.5   \n",
      "1     IND        India       ADITYA CEMENT WORKS  WRI1019881         98.0   \n",
      "2     IND        India  AES Saurashtra Windfarms  WRI1026669         39.2   \n",
      "3     IND        India               AGARTALA GT  IND0000001        135.0   \n",
      "4     IND        India              AKALTARA TPP  IND0000002       1800.0   \n",
      "\n",
      "   latitude  longitude primary_fuel other_fuel1 other_fuel2  ...  \\\n",
      "0   28.1839    73.2407        Solar         NaN         NaN  ...   \n",
      "1   24.7663    74.6090         Coal         NaN         NaN  ...   \n",
      "2   21.9038    69.3732         Wind         NaN         NaN  ...   \n",
      "3   23.8712    91.3602          Gas         NaN         NaN  ...   \n",
      "4   21.9603    82.4091         Coal         Oil         NaN  ...   \n",
      "\n",
      "   year_of_capacity_data  generation_gwh_2013 generation_gwh_2014  \\\n",
      "0                    NaN                  NaN                 NaN   \n",
      "1                    NaN                  NaN                 NaN   \n",
      "2                    NaN                  NaN                 NaN   \n",
      "3                 2019.0                  NaN          617.789264   \n",
      "4                 2019.0                  NaN         3035.550000   \n",
      "\n",
      "  generation_gwh_2015 generation_gwh_2016 generation_gwh_2017  \\\n",
      "0                 NaN                 NaN                 NaN   \n",
      "1                 NaN                 NaN                 NaN   \n",
      "2                 NaN                 NaN                 NaN   \n",
      "3             843.747          886.004428          663.774500   \n",
      "4            5916.370         6243.000000         5385.579736   \n",
      "\n",
      "   generation_gwh_2018  generation_gwh_2019         generation_data_source  \\\n",
      "0                  NaN                  NaN                            NaN   \n",
      "1                  NaN                  NaN                            NaN   \n",
      "2                  NaN                  NaN                            NaN   \n",
      "3           626.239128                  NaN  Central Electricity Authority   \n",
      "4          7279.000000                  NaN  Central Electricity Authority   \n",
      "\n",
      "   estimated_generation_gwh  \n",
      "0                       NaN  \n",
      "1                       NaN  \n",
      "2                       NaN  \n",
      "3                       NaN  \n",
      "4                       NaN  \n",
      "\n",
      "[5 rows x 27 columns]\n"
     ]
    }
   ],
   "source": [
    "print(df.head())"
   ]
  },
  {
   "cell_type": "code",
   "execution_count": 16,
   "id": "a3a9364c",
   "metadata": {},
   "outputs": [
    {
     "name": "stdout",
     "output_type": "stream",
     "text": [
      "<class 'pandas.core.frame.DataFrame'>\n",
      "RangeIndex: 907 entries, 0 to 906\n",
      "Data columns (total 27 columns):\n",
      " #   Column                    Non-Null Count  Dtype  \n",
      "---  ------                    --------------  -----  \n",
      " 0   country                   907 non-null    object \n",
      " 1   country_long              907 non-null    object \n",
      " 2   name                      907 non-null    object \n",
      " 3   gppd_idnr                 907 non-null    object \n",
      " 4   capacity_mw               907 non-null    float64\n",
      " 5   latitude                  861 non-null    float64\n",
      " 6   longitude                 861 non-null    float64\n",
      " 7   primary_fuel              907 non-null    object \n",
      " 8   other_fuel1               198 non-null    object \n",
      " 9   other_fuel2               1 non-null      object \n",
      " 10  other_fuel3               0 non-null      float64\n",
      " 11  commissioning_year        527 non-null    float64\n",
      " 12  owner                     342 non-null    object \n",
      " 13  source                    907 non-null    object \n",
      " 14  url                       907 non-null    object \n",
      " 15  geolocation_source        888 non-null    object \n",
      " 16  wepp_id                   0 non-null      float64\n",
      " 17  year_of_capacity_data     519 non-null    float64\n",
      " 18  generation_gwh_2013       0 non-null      float64\n",
      " 19  generation_gwh_2014       398 non-null    float64\n",
      " 20  generation_gwh_2015       422 non-null    float64\n",
      " 21  generation_gwh_2016       434 non-null    float64\n",
      " 22  generation_gwh_2017       440 non-null    float64\n",
      " 23  generation_gwh_2018       448 non-null    float64\n",
      " 24  generation_gwh_2019       0 non-null      float64\n",
      " 25  generation_data_source    449 non-null    object \n",
      " 26  estimated_generation_gwh  0 non-null      float64\n",
      "dtypes: float64(15), object(12)\n",
      "memory usage: 191.4+ KB\n",
      "None\n"
     ]
    }
   ],
   "source": [
    "print(df.info())"
   ]
  },
  {
   "cell_type": "code",
   "execution_count": 25,
   "id": "38db6d12",
   "metadata": {},
   "outputs": [
    {
     "name": "stdout",
     "output_type": "stream",
     "text": [
      "       capacity_mw    latitude   longitude  commissioning_year  \\\n",
      "count   907.000000  907.000000  907.000000          527.000000   \n",
      "mean    326.223755   21.197918   77.464907         1997.091082   \n",
      "std     590.085456    6.079148    4.812291           17.082868   \n",
      "min       0.000000    8.168900   68.644700         1927.000000   \n",
      "25%      16.725000   17.072000   74.388900         1988.000000   \n",
      "50%      59.200000   21.281800   76.979200         2001.000000   \n",
      "75%     385.250000   25.176450   79.206100         2012.000000   \n",
      "max    4760.000000   34.649000   95.408000         2018.000000   \n",
      "\n",
      "       year_of_capacity_data  generation_gwh_2014  generation_gwh_2015  \\\n",
      "count                  519.0           398.000000           422.000000   \n",
      "mean                  2019.0          2431.823590          2428.226946   \n",
      "std                      0.0          4026.440035          4194.596959   \n",
      "min                   2019.0             0.000000             0.000000   \n",
      "25%                   2019.0           223.557672           176.381063   \n",
      "50%                   2019.0           801.123775           711.181225   \n",
      "75%                   2019.0          3035.306250          3084.121250   \n",
      "max                   2019.0         28127.000000         30539.000000   \n",
      "\n",
      "       generation_gwh_2016  generation_gwh_2017  generation_gwh_2018  \n",
      "count           434.000000           440.000000           448.000000  \n",
      "mean           2467.936859          2547.759305          2600.804099  \n",
      "std            4162.884308          4196.991169          4314.880456  \n",
      "min               0.000000             0.000000             0.000000  \n",
      "25%             188.285252           177.874930           193.378250  \n",
      "50%             737.205450           817.977250           751.644375  \n",
      "75%            3282.861313          3275.690475          3143.535900  \n",
      "max           30015.000000         35116.000000         35136.000000  \n"
     ]
    }
   ],
   "source": [
    "print(df.describe())"
   ]
  },
  {
   "cell_type": "code",
   "execution_count": 26,
   "id": "cb73ce61",
   "metadata": {},
   "outputs": [
    {
     "name": "stdout",
     "output_type": "stream",
     "text": [
      "country                     0\n",
      "country_long                0\n",
      "name                        0\n",
      "gppd_idnr                   0\n",
      "capacity_mw                 0\n",
      "latitude                    0\n",
      "longitude                   0\n",
      "primary_fuel                0\n",
      "other_fuel1               709\n",
      "other_fuel2               906\n",
      "commissioning_year        380\n",
      "owner                     565\n",
      "source                      0\n",
      "url                         0\n",
      "geolocation_source         19\n",
      "year_of_capacity_data     388\n",
      "generation_gwh_2014       509\n",
      "generation_gwh_2015       485\n",
      "generation_gwh_2016       473\n",
      "generation_gwh_2017       467\n",
      "generation_gwh_2018       459\n",
      "generation_data_source    458\n",
      "dtype: int64\n"
     ]
    }
   ],
   "source": [
    "print(df.isnull().sum())"
   ]
  },
  {
   "cell_type": "code",
   "execution_count": 17,
   "id": "2728b442",
   "metadata": {},
   "outputs": [
    {
     "name": "stdout",
     "output_type": "stream",
     "text": [
      "\n",
      "Modified dataset info:\n",
      "<class 'pandas.core.frame.DataFrame'>\n",
      "RangeIndex: 907 entries, 0 to 906\n",
      "Data columns (total 22 columns):\n",
      " #   Column                  Non-Null Count  Dtype  \n",
      "---  ------                  --------------  -----  \n",
      " 0   country                 907 non-null    object \n",
      " 1   country_long            907 non-null    object \n",
      " 2   name                    907 non-null    object \n",
      " 3   gppd_idnr               907 non-null    object \n",
      " 4   capacity_mw             907 non-null    float64\n",
      " 5   latitude                907 non-null    float64\n",
      " 6   longitude               907 non-null    float64\n",
      " 7   primary_fuel            907 non-null    object \n",
      " 8   other_fuel1             198 non-null    object \n",
      " 9   other_fuel2             1 non-null      object \n",
      " 10  commissioning_year      527 non-null    float64\n",
      " 11  owner                   342 non-null    object \n",
      " 12  source                  907 non-null    object \n",
      " 13  url                     907 non-null    object \n",
      " 14  geolocation_source      888 non-null    object \n",
      " 15  year_of_capacity_data   519 non-null    float64\n",
      " 16  generation_gwh_2014     398 non-null    float64\n",
      " 17  generation_gwh_2015     422 non-null    float64\n",
      " 18  generation_gwh_2016     434 non-null    float64\n",
      " 19  generation_gwh_2017     440 non-null    float64\n",
      " 20  generation_gwh_2018     448 non-null    float64\n",
      " 21  generation_data_source  449 non-null    object \n",
      "dtypes: float64(10), object(12)\n",
      "memory usage: 156.0+ KB\n",
      "None\n"
     ]
    },
    {
     "name": "stderr",
     "output_type": "stream",
     "text": [
      "C:\\Users\\sanja\\AppData\\Local\\Temp\\ipykernel_14732\\75649312.py:8: FutureWarning: The default value of numeric_only in DataFrame.mean is deprecated. In a future version, it will default to False. In addition, specifying 'numeric_only=None' is deprecated. Select only valid columns or specify the value of numeric_only to silence this warning.\n",
      "  df[selected_features] = df[selected_features].fillna(df[selected_features].mean())\n"
     ]
    }
   ],
   "source": [
    "df = df.dropna(axis=1, how='all')\n",
    "\n",
    "selected_features = ['capacity_mw', 'latitude', 'longitude', 'primary_fuel']\n",
    "\n",
    "df[selected_features] = df[selected_features].fillna(df[selected_features].mean())\n",
    "\n",
    "print(\"\\nModified dataset info:\")\n",
    "print(df.info())\n"
   ]
  },
  {
   "cell_type": "code",
   "execution_count": 19,
   "id": "c1ea8b74",
   "metadata": {},
   "outputs": [],
   "source": [
    "from sklearn.model_selection import train_test_split\n",
    "from sklearn.ensemble import RandomForestClassifier, RandomForestRegressor\n",
    "from sklearn.metrics import accuracy_score, mean_squared_error\n",
    "import joblib\n",
    "\n",
    "selected_features = ['capacity_mw', 'latitude', 'longitude']\n",
    "\n",
    "X = df[selected_features]\n",
    "y_fuel = df['primary_fuel']\n",
    "y_capacity = df['capacity_mw']\n",
    "\n",
    "X_train, X_test, y_fuel_train, y_fuel_test, y_capacity_train, y_capacity_test = train_test_split(X, y_fuel, y_capacity, test_size=0.2, random_state=42)\n"
   ]
  },
  {
   "cell_type": "code",
   "execution_count": 20,
   "id": "0ae72d48",
   "metadata": {},
   "outputs": [
    {
     "data": {
      "text/html": [
       "<style>#sk-container-id-1 {color: black;background-color: white;}#sk-container-id-1 pre{padding: 0;}#sk-container-id-1 div.sk-toggleable {background-color: white;}#sk-container-id-1 label.sk-toggleable__label {cursor: pointer;display: block;width: 100%;margin-bottom: 0;padding: 0.3em;box-sizing: border-box;text-align: center;}#sk-container-id-1 label.sk-toggleable__label-arrow:before {content: \"▸\";float: left;margin-right: 0.25em;color: #696969;}#sk-container-id-1 label.sk-toggleable__label-arrow:hover:before {color: black;}#sk-container-id-1 div.sk-estimator:hover label.sk-toggleable__label-arrow:before {color: black;}#sk-container-id-1 div.sk-toggleable__content {max-height: 0;max-width: 0;overflow: hidden;text-align: left;background-color: #f0f8ff;}#sk-container-id-1 div.sk-toggleable__content pre {margin: 0.2em;color: black;border-radius: 0.25em;background-color: #f0f8ff;}#sk-container-id-1 input.sk-toggleable__control:checked~div.sk-toggleable__content {max-height: 200px;max-width: 100%;overflow: auto;}#sk-container-id-1 input.sk-toggleable__control:checked~label.sk-toggleable__label-arrow:before {content: \"▾\";}#sk-container-id-1 div.sk-estimator input.sk-toggleable__control:checked~label.sk-toggleable__label {background-color: #d4ebff;}#sk-container-id-1 div.sk-label input.sk-toggleable__control:checked~label.sk-toggleable__label {background-color: #d4ebff;}#sk-container-id-1 input.sk-hidden--visually {border: 0;clip: rect(1px 1px 1px 1px);clip: rect(1px, 1px, 1px, 1px);height: 1px;margin: -1px;overflow: hidden;padding: 0;position: absolute;width: 1px;}#sk-container-id-1 div.sk-estimator {font-family: monospace;background-color: #f0f8ff;border: 1px dotted black;border-radius: 0.25em;box-sizing: border-box;margin-bottom: 0.5em;}#sk-container-id-1 div.sk-estimator:hover {background-color: #d4ebff;}#sk-container-id-1 div.sk-parallel-item::after {content: \"\";width: 100%;border-bottom: 1px solid gray;flex-grow: 1;}#sk-container-id-1 div.sk-label:hover label.sk-toggleable__label {background-color: #d4ebff;}#sk-container-id-1 div.sk-serial::before {content: \"\";position: absolute;border-left: 1px solid gray;box-sizing: border-box;top: 0;bottom: 0;left: 50%;z-index: 0;}#sk-container-id-1 div.sk-serial {display: flex;flex-direction: column;align-items: center;background-color: white;padding-right: 0.2em;padding-left: 0.2em;position: relative;}#sk-container-id-1 div.sk-item {position: relative;z-index: 1;}#sk-container-id-1 div.sk-parallel {display: flex;align-items: stretch;justify-content: center;background-color: white;position: relative;}#sk-container-id-1 div.sk-item::before, #sk-container-id-1 div.sk-parallel-item::before {content: \"\";position: absolute;border-left: 1px solid gray;box-sizing: border-box;top: 0;bottom: 0;left: 50%;z-index: -1;}#sk-container-id-1 div.sk-parallel-item {display: flex;flex-direction: column;z-index: 1;position: relative;background-color: white;}#sk-container-id-1 div.sk-parallel-item:first-child::after {align-self: flex-end;width: 50%;}#sk-container-id-1 div.sk-parallel-item:last-child::after {align-self: flex-start;width: 50%;}#sk-container-id-1 div.sk-parallel-item:only-child::after {width: 0;}#sk-container-id-1 div.sk-dashed-wrapped {border: 1px dashed gray;margin: 0 0.4em 0.5em 0.4em;box-sizing: border-box;padding-bottom: 0.4em;background-color: white;}#sk-container-id-1 div.sk-label label {font-family: monospace;font-weight: bold;display: inline-block;line-height: 1.2em;}#sk-container-id-1 div.sk-label-container {text-align: center;}#sk-container-id-1 div.sk-container {/* jupyter's `normalize.less` sets `[hidden] { display: none; }` but bootstrap.min.css set `[hidden] { display: none !important; }` so we also need the `!important` here to be able to override the default hidden behavior on the sphinx rendered scikit-learn.org. See: https://github.com/scikit-learn/scikit-learn/issues/21755 */display: inline-block !important;position: relative;}#sk-container-id-1 div.sk-text-repr-fallback {display: none;}</style><div id=\"sk-container-id-1\" class=\"sk-top-container\"><div class=\"sk-text-repr-fallback\"><pre>RandomForestRegressor()</pre><b>In a Jupyter environment, please rerun this cell to show the HTML representation or trust the notebook. <br />On GitHub, the HTML representation is unable to render, please try loading this page with nbviewer.org.</b></div><div class=\"sk-container\" hidden><div class=\"sk-item\"><div class=\"sk-estimator sk-toggleable\"><input class=\"sk-toggleable__control sk-hidden--visually\" id=\"sk-estimator-id-1\" type=\"checkbox\" checked><label for=\"sk-estimator-id-1\" class=\"sk-toggleable__label sk-toggleable__label-arrow\">RandomForestRegressor</label><div class=\"sk-toggleable__content\"><pre>RandomForestRegressor()</pre></div></div></div></div></div>"
      ],
      "text/plain": [
       "RandomForestRegressor()"
      ]
     },
     "execution_count": 20,
     "metadata": {},
     "output_type": "execute_result"
    }
   ],
   "source": [
    "\n",
    "fuel_model = RandomForestClassifier()\n",
    "capacity_model = RandomForestRegressor()\n",
    "\n",
    "fuel_model.fit(X_train, y_fuel_train)\n",
    "capacity_model.fit(X_train, y_capacity_train)\n"
   ]
  },
  {
   "cell_type": "code",
   "execution_count": 21,
   "id": "6255db2c",
   "metadata": {},
   "outputs": [],
   "source": [
    "\n",
    "fuel_predictions = fuel_model.predict(X_test)\n",
    "capacity_predictions = capacity_model.predict(X_test)\n"
   ]
  },
  {
   "cell_type": "code",
   "execution_count": 22,
   "id": "b216b5bd",
   "metadata": {},
   "outputs": [
    {
     "name": "stdout",
     "output_type": "stream",
     "text": [
      "Fuel Type Prediction Accuracy: 0.7032967032967034\n",
      "Capacity (MW) Prediction RMSE: 48.68300323521804\n"
     ]
    }
   ],
   "source": [
    "\n",
    "fuel_accuracy = accuracy_score(y_fuel_test, fuel_predictions)\n",
    "capacity_rmse = mean_squared_error(y_capacity_test, capacity_predictions, squared=False)\n",
    "\n",
    "print(f\"Fuel Type Prediction Accuracy: {fuel_accuracy}\")\n",
    "print(f\"Capacity (MW) Prediction RMSE: {capacity_rmse}\")\n"
   ]
  },
  {
   "cell_type": "code",
   "execution_count": 23,
   "id": "c3ff10f7",
   "metadata": {},
   "outputs": [
    {
     "data": {
      "text/plain": [
       "['capacity_model.joblib']"
      ]
     },
     "execution_count": 23,
     "metadata": {},
     "output_type": "execute_result"
    }
   ],
   "source": [
    "\n",
    "joblib.dump(fuel_model, 'fuel_model.joblib')\n",
    "joblib.dump(capacity_model, 'capacity_model.joblib')\n"
   ]
  },
  {
   "cell_type": "code",
   "execution_count": null,
   "id": "515ddb1f",
   "metadata": {},
   "outputs": [],
   "source": []
  }
 ],
 "metadata": {
  "kernelspec": {
   "display_name": "Python 3 (ipykernel)",
   "language": "python",
   "name": "python3"
  },
  "language_info": {
   "codemirror_mode": {
    "name": "ipython",
    "version": 3
   },
   "file_extension": ".py",
   "mimetype": "text/x-python",
   "name": "python",
   "nbconvert_exporter": "python",
   "pygments_lexer": "ipython3",
   "version": "3.10.9"
  }
 },
 "nbformat": 4,
 "nbformat_minor": 5
}
